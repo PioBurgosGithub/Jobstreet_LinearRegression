{
 "cells": [
  {
   "attachments": {},
   "cell_type": "markdown",
   "metadata": {},
   "source": [
    "Note: We need to Change the class names of the DIV, SPANS and other ELEMENTS in our code because the Jobstreet Website constantly changes its \"class names\" to prevent web scraping "
   ]
  },
  {
   "attachments": {},
   "cell_type": "markdown",
   "metadata": {},
   "source": [
    "MAKE NEW ENVIRONMENT that will contain the libraries for this code to function"
   ]
  },
  {
   "cell_type": "code",
   "execution_count": 1,
   "metadata": {},
   "outputs": [],
   "source": [
    "import requests \n",
    "from bs4 import BeautifulSoup"
   ]
  },
  {
   "cell_type": "code",
   "execution_count": 2,
   "metadata": {},
   "outputs": [],
   "source": [
    "from requests.packages.urllib3.exceptions import InsecureRequestWarning\n",
    "requests.packages.urllib3.disable_warnings(InsecureRequestWarning)\n",
    "# The code \"requests.packages.urllib3.disable_warnings(InsecureRequestWarning) disables the InsecureRequestWarning warning.\"\"Activity #4 - Linear Regression.pdf\""
   ]
  },
  {
   "cell_type": "code",
   "execution_count": 3,
   "metadata": {},
   "outputs": [],
   "source": [
    "headers = {'User-Agent':'Mozilla/5.0 (Windows NT 6.1; WOW64; rv:50.0) Gecko/50.0'}\n",
    "#This code creates a dictionary of HTTP headers. The User-Agent header is used to identify the user agent of the client making the request. In this case, the user agent is set to Mozilla Firefox 50.0."
   ]
  },
  {
   "cell_type": "code",
   "execution_count": 4,
   "metadata": {},
   "outputs": [],
   "source": [
    "import cloudscraper\n",
    "# A simple Python module to bypass Cloudflare's anti-bot page (also known as \"I'm Under Attack Mode\", or IUAM), implemented with Requests. \n",
    "# This can be useful if you wish to scrape or crawl a website protected with Cloudflare."
   ]
  },
  {
   "cell_type": "code",
   "execution_count": 5,
   "metadata": {},
   "outputs": [],
   "source": [
    "scraper = cloudscraper.create_scraper(browser = 'chrome')\n",
    "# this code allows you to scrape websites that would otherwise be blocked by Cloudflare.\n",
    "# specify the browser that the CloudScraper object should use"
   ]
  },
  {
   "cell_type": "code",
   "execution_count": 6,
   "metadata": {},
   "outputs": [],
   "source": [
    "import csv # The csv module implements classes to read and write tabular data in CSV format.\n",
    "from csv import writer # This line of code imports the writer class from the csv module.\n",
    "import re # This module provides regular expression matching operations\n",
    "import urllib.parse  \n",
    "# This module provides a standard interface to break Uniform Resource Locator (URL) strings \n",
    "# in components or to combine the components back into a URL string. \n",
    "# It also has functions to convert a \"relative URL\" to an absolute URL given a \"base URL.\""
   ]
  },
  {
   "attachments": {},
   "cell_type": "markdown",
   "metadata": {},
   "source": [
    "***"
   ]
  },
  {
   "attachments": {},
   "cell_type": "markdown",
   "metadata": {},
   "source": [
    "# Data Scraping\n",
    "- https://www.jobstreet.com.ph/en/job-search/junior-developer-jobs/\n",
    "- https://www.jobstreet.com.ph/en/job-search/senior-developer-jobs/\n",
    "- https://www.jobstreet.com.ph/en/job-search/project-manager-jobs/\n",
    "- https://www.jobstreet.com.ph/en/job-search/cto-jobs/\n",
    "\n"
   ]
  },
  {
   "cell_type": "code",
   "execution_count": 62,
   "metadata": {},
   "outputs": [],
   "source": [
    "url_link_JrDev = 'https://www.jobstreet.com.ph/en/job-search/junior-developer-jobs/'\n",
    "s_res = scraper.get(url_link_JrDev).text\n",
    "soup = BeautifulSoup(s_res,'html.parser')\n",
    "# the lines of code are used to extract data from the website 'https://www.jobstreet.com.ph/en/job-search/junior-developer-jobs/'"
   ]
  },
  {
   "cell_type": "code",
   "execution_count": 63,
   "metadata": {},
   "outputs": [],
   "source": [
    "# class_=\"z1s6m00\" contains all the divs of the different Companies and the Job Positions they are hiring \n",
    "allResults_ = soup.find(\"div\",class_=\"z1s6m00\")# this variable will find divs that contains Jobs from different companies"
   ]
  },
  {
   "attachments": {},
   "cell_type": "markdown",
   "metadata": {},
   "source": [
    "****"
   ]
  },
  {
   "attachments": {},
   "cell_type": "markdown",
   "metadata": {},
   "source": [
    "***\n"
   ]
  },
  {
   "cell_type": "code",
   "execution_count": 64,
   "metadata": {},
   "outputs": [],
   "source": [
    "def scrape_data(url):  \n",
    "    i = 1  # i represents the page number\n",
    "    steps = 5 # represents the number of times the \n",
    "\n",
    "    while i <= steps: # as long as i is less or equal to the number if steps the while loop will continue iterating \n",
    "        temp = i # 'temp' will be the copy of variable 'i' \n",
    "        url_with_page = url + '?pg=' + str(temp) # will represent the current page the code is craping data from\n",
    "        response = requests.get(url_with_page).text\n",
    "        soup = BeautifulSoup(response, 'html.parser')\n",
    "\n",
    "        with open('Jobstreet.csv', 'a', newline='', encoding='utf-8') as csvfile:\n",
    "            csvwriter = csv.writer(csvfile)\n",
    "\n",
    "            company_divs = soup.find_all(\"div\", class_='z1s6m00 _1hbhsw65a _1hbhsw6ga _1hbhsw6n _1hbhsw60 _1hbhsw662')\n",
    "\n",
    "            for div in company_divs:\n",
    "                job = div.find('span', class_=\"z1s6m00\").text.replace('\\n', '').lower() # will find the span containing the Job Position\n",
    "\n",
    "                spans_salary = div.find_all('span', class_=\"z1s6m00 _1hbhsw64y y44q7i0 y44q7i3 y44q7i21 y44q7ih\") \n",
    "                '''will find all the spans that may contain the salary.\n",
    "                some spans with class_=\"z1s6m00 _1hbhsw64y y44q7i0 y44q7i3 y44q7i21 y44q7ih\" may not contain salary. \n",
    "                the next snippet will deal with this obstacle'''\n",
    "\n",
    "                for span in spans_salary: \n",
    "                    if re.search(r'\\bmonthly\\b', span.text): \n",
    "                        '''the code will only scrape the data that contains the word \"monthly\". \n",
    "                        \"monthly\" is not present then it will not scrape the data '''\n",
    "\n",
    "                        salary_str = re.findall(r'\\S+\\s*\\S+', span.text)[0] \n",
    "                        salary_str = re.sub(r'[^\\d\\.]', '', salary_str)\n",
    "                        salary = float(salary_str) * 1000\n",
    "                        #This code snippet will convert salaries like Php15k or Php50k strings into 15000.0 or 50000.0 floats\n",
    "\n",
    "                        link = div.find(\"a\") \n",
    "                        link = link['href']\n",
    "                        # these lines code will be used to find the Relative URL present in the div \n",
    "\n",
    "                        base_url = \"https://www.jobstreet.com.ph\"\n",
    "                        link = urllib.parse.urljoin(base_url, link) # this code is used to join the base_url with the relative \n",
    "\n",
    "                        hyperlink_response = requests.get(link, timeout=5)\n",
    "                        hyperlink_soup = BeautifulSoup(hyperlink_response.content, \"html.parser\")\n",
    "                        '''this code snippet will make a request to the URL link using the new Base_Url. \n",
    "                        timeout argument specifies the amount of time to wait for the request to complete. \n",
    "                        If the request does not complete within the specified time, the request will be aborted\n",
    "                        then BeautifulSoup will extract data from the HTML pages.'''\n",
    "\n",
    "\n",
    "                        #'''After the request has been sent and rthe code will scrape the data in the new hyperlink'''\n",
    "                        experiences_spans = hyperlink_soup.find_all('span', class_=\"z1s6m00 _1hbhsw64y y44q7i0 y44q7i1 y44q7i21 _1d0g9qk4 y44q7ia\")\n",
    "                        for x in experiences_spans:\n",
    "                            if re.search(r'\\byears\\b', x.text):\n",
    "                                ''''the code will only scrape the data that contains the word \"years\". \n",
    "                                \"years\" is not present then it will not scrape the data '''\n",
    "                                experience = re.findall(r'\\S+\\s*\\S+', x.text)[0]\n",
    "                                experience = re.sub(r'[^\\d\\.]', '', experience)\n",
    "\n",
    "                                csvwriter.writerow([job, experience, link, salary]) # this line of code will write all the data scraped into 'Jobstreet.csv'\n",
    "\n",
    "        print(\"Page\", i, \"& step\", steps, \"\\n\")\n",
    "        i += 1\n"
   ]
  },
  {
   "cell_type": "code",
   "execution_count": 65,
   "metadata": {},
   "outputs": [],
   "source": [
    "with open('Jobstreet.csv', 'a', newline='', encoding='utf-8') as csvfile:\n",
    "    csvwriter = csv.writer(csvfile)\n",
    "    csvwriter.writerow(['Job', 'Experience', 'URLs', 'Salary'])\n",
    "\n",
    "# The lines of code are used to write the column names of 'Job', 'Salary', 'URLs', \n",
    "# 'Experience' into the .csv file  Jobstreet.csv\n",
    "#Experience Column is in years. Example 2.0 means 2 years"
   ]
  },
  {
   "cell_type": "code",
   "execution_count": 66,
   "metadata": {},
   "outputs": [
    {
     "name": "stdout",
     "output_type": "stream",
     "text": [
      "Page 1 & step 5 \n",
      "\n",
      "Page 2 & step 5 \n",
      "\n",
      "Page 3 & step 5 \n",
      "\n",
      "Page 4 & step 5 \n",
      "\n",
      "Page 5 & step 5 \n",
      "\n"
     ]
    }
   ],
   "source": [
    "url_link_JrDev = 'https://www.jobstreet.com.ph/en/job-search/junior-developer-jobs/'\n",
    "scrape_data(url_link_JrDev)"
   ]
  },
  {
   "attachments": {},
   "cell_type": "markdown",
   "metadata": {},
   "source": [
    "****"
   ]
  },
  {
   "cell_type": "code",
   "execution_count": 67,
   "metadata": {},
   "outputs": [],
   "source": [
    "url_link_SrDev = 'https://www.jobstreet.com.ph/en/job-search/senior-developer-jobs/'\n",
    "url_link_PM = 'https://www.jobstreet.com.ph/en/job-search/project-manager-jobs/'\n",
    "url_link_CTO = 'https://www.jobstreet.com.ph/en/job-search/cto-jobs/'"
   ]
  },
  {
   "cell_type": "code",
   "execution_count": 68,
   "metadata": {},
   "outputs": [
    {
     "name": "stdout",
     "output_type": "stream",
     "text": [
      "Page 1 & step 5 \n",
      "\n",
      "Page 2 & step 5 \n",
      "\n",
      "Page 3 & step 5 \n",
      "\n",
      "Page 4 & step 5 \n",
      "\n",
      "Page 5 & step 5 \n",
      "\n"
     ]
    }
   ],
   "source": [
    "s_res = scraper.get(url_link_SrDev).text\n",
    "soup = BeautifulSoup(s_res,'html.parser')\n",
    "scrape_data(url_link_SrDev)"
   ]
  },
  {
   "cell_type": "code",
   "execution_count": 69,
   "metadata": {},
   "outputs": [
    {
     "name": "stdout",
     "output_type": "stream",
     "text": [
      "Page 1 & step 5 \n",
      "\n",
      "Page 2 & step 5 \n",
      "\n",
      "Page 3 & step 5 \n",
      "\n",
      "Page 4 & step 5 \n",
      "\n",
      "Page 5 & step 5 \n",
      "\n"
     ]
    }
   ],
   "source": [
    "s_res = scraper.get(url_link_PM).text\n",
    "soup = BeautifulSoup(s_res,'html.parser')\n",
    "scrape_data(url_link_PM)"
   ]
  },
  {
   "cell_type": "code",
   "execution_count": 70,
   "metadata": {},
   "outputs": [
    {
     "name": "stdout",
     "output_type": "stream",
     "text": [
      "Page 1 & step 5 \n",
      "\n",
      "Page 2 & step 5 \n",
      "\n",
      "Page 3 & step 5 \n",
      "\n",
      "Page 4 & step 5 \n",
      "\n",
      "Page 5 & step 5 \n",
      "\n"
     ]
    }
   ],
   "source": [
    "s_res = scraper.get(url_link_CTO).text\n",
    "soup = BeautifulSoup(s_res,'html.parser')\n",
    "scrape_data(url_link_CTO)"
   ]
  },
  {
   "attachments": {},
   "cell_type": "markdown",
   "metadata": {},
   "source": [
    "***"
   ]
  },
  {
   "attachments": {},
   "cell_type": "markdown",
   "metadata": {},
   "source": [
    "# Linear Regression"
   ]
  },
  {
   "cell_type": "code",
   "execution_count": 7,
   "metadata": {},
   "outputs": [],
   "source": [
    "import pandas as pd"
   ]
  },
  {
   "cell_type": "code",
   "execution_count": 71,
   "metadata": {},
   "outputs": [
    {
     "data": {
      "text/html": [
       "<div>\n",
       "<style scoped>\n",
       "    .dataframe tbody tr th:only-of-type {\n",
       "        vertical-align: middle;\n",
       "    }\n",
       "\n",
       "    .dataframe tbody tr th {\n",
       "        vertical-align: top;\n",
       "    }\n",
       "\n",
       "    .dataframe thead th {\n",
       "        text-align: right;\n",
       "    }\n",
       "</style>\n",
       "<table border=\"1\" class=\"dataframe\">\n",
       "  <thead>\n",
       "    <tr style=\"text-align: right;\">\n",
       "      <th></th>\n",
       "      <th>Job</th>\n",
       "      <th>Experience</th>\n",
       "      <th>URLs</th>\n",
       "      <th>Salary</th>\n",
       "    </tr>\n",
       "  </thead>\n",
       "  <tbody>\n",
       "    <tr>\n",
       "      <th>0</th>\n",
       "      <td>junior programmer</td>\n",
       "      <td>2.0</td>\n",
       "      <td>https://www.jobstreet.com.ph/en/job/junior-pro...</td>\n",
       "      <td>15000.0</td>\n",
       "    </tr>\n",
       "    <tr>\n",
       "      <th>1</th>\n",
       "      <td>programmer/software engineer</td>\n",
       "      <td>2.0</td>\n",
       "      <td>https://www.jobstreet.com.ph/en/job/programmer...</td>\n",
       "      <td>25000.0</td>\n",
       "    </tr>\n",
       "    <tr>\n",
       "      <th>2</th>\n",
       "      <td>junior java developer</td>\n",
       "      <td>2.0</td>\n",
       "      <td>https://www.jobstreet.com.ph/en/job/junior-jav...</td>\n",
       "      <td>25000.0</td>\n",
       "    </tr>\n",
       "    <tr>\n",
       "      <th>3</th>\n",
       "      <td>junior backend developer</td>\n",
       "      <td>2.0</td>\n",
       "      <td>https://www.jobstreet.com.ph/en/job/junior-bac...</td>\n",
       "      <td>20000.0</td>\n",
       "    </tr>\n",
       "    <tr>\n",
       "      <th>4</th>\n",
       "      <td>android developer ( junior, mid, senior )</td>\n",
       "      <td>3.0</td>\n",
       "      <td>https://www.jobstreet.com.ph/en/job/android-de...</td>\n",
       "      <td>45000.0</td>\n",
       "    </tr>\n",
       "    <tr>\n",
       "      <th>...</th>\n",
       "      <td>...</td>\n",
       "      <td>...</td>\n",
       "      <td>...</td>\n",
       "      <td>...</td>\n",
       "    </tr>\n",
       "    <tr>\n",
       "      <th>110</th>\n",
       "      <td>systems administrator (work from home)</td>\n",
       "      <td>5.0</td>\n",
       "      <td>https://www.jobstreet.com.ph/en/job/systems-ad...</td>\n",
       "      <td>50000.0</td>\n",
       "    </tr>\n",
       "    <tr>\n",
       "      <th>111</th>\n",
       "      <td>software engineer - python centric</td>\n",
       "      <td>3.0</td>\n",
       "      <td>https://www.jobstreet.com.ph/en/job/software-e...</td>\n",
       "      <td>100000.0</td>\n",
       "    </tr>\n",
       "    <tr>\n",
       "      <th>112</th>\n",
       "      <td>property accountant | hybrid, night-shift | up...</td>\n",
       "      <td>5.0</td>\n",
       "      <td>https://www.jobstreet.com.ph/en/job/property-a...</td>\n",
       "      <td>45000.0</td>\n",
       "    </tr>\n",
       "    <tr>\n",
       "      <th>113</th>\n",
       "      <td>ao ii-fad hr -28-23</td>\n",
       "      <td>4.0</td>\n",
       "      <td>https://www.jobstreet.com.ph/en/job/ao-ii-fad-...</td>\n",
       "      <td>32000.0</td>\n",
       "    </tr>\n",
       "    <tr>\n",
       "      <th>114</th>\n",
       "      <td>construction project coordinator | wfh (cebu),...</td>\n",
       "      <td>4.0</td>\n",
       "      <td>https://www.jobstreet.com.ph/en/job/constructi...</td>\n",
       "      <td>45000.0</td>\n",
       "    </tr>\n",
       "  </tbody>\n",
       "</table>\n",
       "<p>115 rows × 4 columns</p>\n",
       "</div>"
      ],
      "text/plain": [
       "                                                   Job  Experience  \\\n",
       "0                                    junior programmer         2.0   \n",
       "1                         programmer/software engineer         2.0   \n",
       "2                                junior java developer         2.0   \n",
       "3                             junior backend developer         2.0   \n",
       "4            android developer ( junior, mid, senior )         3.0   \n",
       "..                                                 ...         ...   \n",
       "110             systems administrator (work from home)         5.0   \n",
       "111                 software engineer - python centric         3.0   \n",
       "112  property accountant | hybrid, night-shift | up...         5.0   \n",
       "113                                ao ii-fad hr -28-23         4.0   \n",
       "114  construction project coordinator | wfh (cebu),...         4.0   \n",
       "\n",
       "                                                  URLs    Salary  \n",
       "0    https://www.jobstreet.com.ph/en/job/junior-pro...   15000.0  \n",
       "1    https://www.jobstreet.com.ph/en/job/programmer...   25000.0  \n",
       "2    https://www.jobstreet.com.ph/en/job/junior-jav...   25000.0  \n",
       "3    https://www.jobstreet.com.ph/en/job/junior-bac...   20000.0  \n",
       "4    https://www.jobstreet.com.ph/en/job/android-de...   45000.0  \n",
       "..                                                 ...       ...  \n",
       "110  https://www.jobstreet.com.ph/en/job/systems-ad...   50000.0  \n",
       "111  https://www.jobstreet.com.ph/en/job/software-e...  100000.0  \n",
       "112  https://www.jobstreet.com.ph/en/job/property-a...   45000.0  \n",
       "113  https://www.jobstreet.com.ph/en/job/ao-ii-fad-...   32000.0  \n",
       "114  https://www.jobstreet.com.ph/en/job/constructi...   45000.0  \n",
       "\n",
       "[115 rows x 4 columns]"
      ]
     },
     "execution_count": 71,
     "metadata": {},
     "output_type": "execute_result"
    }
   ],
   "source": [
    "# this will show the dataset used for linear regression\n",
    "dataset = pd.read_csv('Jobstreet.csv') \n",
    "dataset"
   ]
  },
  {
   "cell_type": "code",
   "execution_count": 87,
   "metadata": {},
   "outputs": [
    {
     "name": "stdout",
     "output_type": "stream",
     "text": [
      "<class 'pandas.core.series.Series'>\n"
     ]
    }
   ],
   "source": [
    "dataset2 = dataset.copy() # to make a copy of the dataset. We can alter the copied dataset as many times we want\n",
    "\n",
    "dataset2['Job'] = dataset2['Job'].astype(str)\n",
    "print(type(dataset2['Job']))"
   ]
  },
  {
   "cell_type": "code",
   "execution_count": 88,
   "metadata": {},
   "outputs": [],
   "source": [
    "# Define the regular expressions to match the job titles\n",
    "\n",
    "junior_regex = r'\\bjunior\\b'\n",
    "senior_regex = r'\\bsenior developer\\b|\\bdeveloper\\b|\\bengineer\\b|\\bprogrammer\\b'\n",
    "pm_regex = r'\\bproject manager\\b'\n",
    "\n",
    "''' Define a lambda function to replace the job titles with 0, 1, 2, or 3\n",
    "0 == Junior Developer\n",
    "1 == Senior Developer\n",
    "2 == Project Manager\n",
    "3 == titles that don't match the previous examples'''\n",
    "replace_func = lambda x: 0 if re.search(junior_regex, x) else 1 if re.search(senior_regex, x) else 2 if re.search(pm_regex, x) else 3\n",
    "\n",
    "# Apply the lambda function to the Job column and assign the result to a new column\n",
    "dataset2['Job'] = dataset2['Job'].apply(replace_func)"
   ]
  },
  {
   "cell_type": "code",
   "execution_count": 89,
   "metadata": {},
   "outputs": [
    {
     "data": {
      "text/html": [
       "<div>\n",
       "<style scoped>\n",
       "    .dataframe tbody tr th:only-of-type {\n",
       "        vertical-align: middle;\n",
       "    }\n",
       "\n",
       "    .dataframe tbody tr th {\n",
       "        vertical-align: top;\n",
       "    }\n",
       "\n",
       "    .dataframe thead th {\n",
       "        text-align: right;\n",
       "    }\n",
       "</style>\n",
       "<table border=\"1\" class=\"dataframe\">\n",
       "  <thead>\n",
       "    <tr style=\"text-align: right;\">\n",
       "      <th></th>\n",
       "      <th>Job</th>\n",
       "      <th>Experience</th>\n",
       "      <th>URLs</th>\n",
       "      <th>Salary</th>\n",
       "    </tr>\n",
       "  </thead>\n",
       "  <tbody>\n",
       "    <tr>\n",
       "      <th>0</th>\n",
       "      <td>0</td>\n",
       "      <td>2.0</td>\n",
       "      <td>https://www.jobstreet.com.ph/en/job/junior-pro...</td>\n",
       "      <td>15000.0</td>\n",
       "    </tr>\n",
       "    <tr>\n",
       "      <th>1</th>\n",
       "      <td>1</td>\n",
       "      <td>2.0</td>\n",
       "      <td>https://www.jobstreet.com.ph/en/job/programmer...</td>\n",
       "      <td>25000.0</td>\n",
       "    </tr>\n",
       "    <tr>\n",
       "      <th>2</th>\n",
       "      <td>0</td>\n",
       "      <td>2.0</td>\n",
       "      <td>https://www.jobstreet.com.ph/en/job/junior-jav...</td>\n",
       "      <td>25000.0</td>\n",
       "    </tr>\n",
       "    <tr>\n",
       "      <th>3</th>\n",
       "      <td>0</td>\n",
       "      <td>2.0</td>\n",
       "      <td>https://www.jobstreet.com.ph/en/job/junior-bac...</td>\n",
       "      <td>20000.0</td>\n",
       "    </tr>\n",
       "    <tr>\n",
       "      <th>4</th>\n",
       "      <td>0</td>\n",
       "      <td>3.0</td>\n",
       "      <td>https://www.jobstreet.com.ph/en/job/android-de...</td>\n",
       "      <td>45000.0</td>\n",
       "    </tr>\n",
       "    <tr>\n",
       "      <th>...</th>\n",
       "      <td>...</td>\n",
       "      <td>...</td>\n",
       "      <td>...</td>\n",
       "      <td>...</td>\n",
       "    </tr>\n",
       "    <tr>\n",
       "      <th>110</th>\n",
       "      <td>3</td>\n",
       "      <td>5.0</td>\n",
       "      <td>https://www.jobstreet.com.ph/en/job/systems-ad...</td>\n",
       "      <td>50000.0</td>\n",
       "    </tr>\n",
       "    <tr>\n",
       "      <th>111</th>\n",
       "      <td>1</td>\n",
       "      <td>3.0</td>\n",
       "      <td>https://www.jobstreet.com.ph/en/job/software-e...</td>\n",
       "      <td>100000.0</td>\n",
       "    </tr>\n",
       "    <tr>\n",
       "      <th>112</th>\n",
       "      <td>3</td>\n",
       "      <td>5.0</td>\n",
       "      <td>https://www.jobstreet.com.ph/en/job/property-a...</td>\n",
       "      <td>45000.0</td>\n",
       "    </tr>\n",
       "    <tr>\n",
       "      <th>113</th>\n",
       "      <td>3</td>\n",
       "      <td>4.0</td>\n",
       "      <td>https://www.jobstreet.com.ph/en/job/ao-ii-fad-...</td>\n",
       "      <td>32000.0</td>\n",
       "    </tr>\n",
       "    <tr>\n",
       "      <th>114</th>\n",
       "      <td>3</td>\n",
       "      <td>4.0</td>\n",
       "      <td>https://www.jobstreet.com.ph/en/job/constructi...</td>\n",
       "      <td>45000.0</td>\n",
       "    </tr>\n",
       "  </tbody>\n",
       "</table>\n",
       "<p>115 rows × 4 columns</p>\n",
       "</div>"
      ],
      "text/plain": [
       "     Job  Experience                                               URLs  \\\n",
       "0      0         2.0  https://www.jobstreet.com.ph/en/job/junior-pro...   \n",
       "1      1         2.0  https://www.jobstreet.com.ph/en/job/programmer...   \n",
       "2      0         2.0  https://www.jobstreet.com.ph/en/job/junior-jav...   \n",
       "3      0         2.0  https://www.jobstreet.com.ph/en/job/junior-bac...   \n",
       "4      0         3.0  https://www.jobstreet.com.ph/en/job/android-de...   \n",
       "..   ...         ...                                                ...   \n",
       "110    3         5.0  https://www.jobstreet.com.ph/en/job/systems-ad...   \n",
       "111    1         3.0  https://www.jobstreet.com.ph/en/job/software-e...   \n",
       "112    3         5.0  https://www.jobstreet.com.ph/en/job/property-a...   \n",
       "113    3         4.0  https://www.jobstreet.com.ph/en/job/ao-ii-fad-...   \n",
       "114    3         4.0  https://www.jobstreet.com.ph/en/job/constructi...   \n",
       "\n",
       "       Salary  \n",
       "0     15000.0  \n",
       "1     25000.0  \n",
       "2     25000.0  \n",
       "3     20000.0  \n",
       "4     45000.0  \n",
       "..        ...  \n",
       "110   50000.0  \n",
       "111  100000.0  \n",
       "112   45000.0  \n",
       "113   32000.0  \n",
       "114   45000.0  \n",
       "\n",
       "[115 rows x 4 columns]"
      ]
     },
     "execution_count": 89,
     "metadata": {},
     "output_type": "execute_result"
    }
   ],
   "source": [
    "dataset2"
   ]
  },
  {
   "attachments": {},
   "cell_type": "markdown",
   "metadata": {},
   "source": [
    "# Data Splitting"
   ]
  },
  {
   "cell_type": "code",
   "execution_count": 97,
   "metadata": {},
   "outputs": [],
   "source": [
    "from sklearn.model_selection import train_test_split\n",
    "import numpy as np"
   ]
  },
  {
   "cell_type": "code",
   "execution_count": 130,
   "metadata": {},
   "outputs": [],
   "source": [
    "df = dataset2.copy()"
   ]
  },
  {
   "cell_type": "code",
   "execution_count": 131,
   "metadata": {},
   "outputs": [],
   "source": [
    "X = df.iloc[:, 0:2] # the X variable is the first and second columns\n",
    "y = df.iloc[:, -1] # the y variable is the last column"
   ]
  },
  {
   "cell_type": "code",
   "execution_count": 132,
   "metadata": {},
   "outputs": [
    {
     "data": {
      "text/html": [
       "<div>\n",
       "<style scoped>\n",
       "    .dataframe tbody tr th:only-of-type {\n",
       "        vertical-align: middle;\n",
       "    }\n",
       "\n",
       "    .dataframe tbody tr th {\n",
       "        vertical-align: top;\n",
       "    }\n",
       "\n",
       "    .dataframe thead th {\n",
       "        text-align: right;\n",
       "    }\n",
       "</style>\n",
       "<table border=\"1\" class=\"dataframe\">\n",
       "  <thead>\n",
       "    <tr style=\"text-align: right;\">\n",
       "      <th></th>\n",
       "      <th>Job</th>\n",
       "      <th>Experience</th>\n",
       "    </tr>\n",
       "  </thead>\n",
       "  <tbody>\n",
       "    <tr>\n",
       "      <th>0</th>\n",
       "      <td>0</td>\n",
       "      <td>2.0</td>\n",
       "    </tr>\n",
       "    <tr>\n",
       "      <th>1</th>\n",
       "      <td>1</td>\n",
       "      <td>2.0</td>\n",
       "    </tr>\n",
       "    <tr>\n",
       "      <th>2</th>\n",
       "      <td>0</td>\n",
       "      <td>2.0</td>\n",
       "    </tr>\n",
       "    <tr>\n",
       "      <th>3</th>\n",
       "      <td>0</td>\n",
       "      <td>2.0</td>\n",
       "    </tr>\n",
       "    <tr>\n",
       "      <th>4</th>\n",
       "      <td>0</td>\n",
       "      <td>3.0</td>\n",
       "    </tr>\n",
       "    <tr>\n",
       "      <th>...</th>\n",
       "      <td>...</td>\n",
       "      <td>...</td>\n",
       "    </tr>\n",
       "    <tr>\n",
       "      <th>110</th>\n",
       "      <td>3</td>\n",
       "      <td>5.0</td>\n",
       "    </tr>\n",
       "    <tr>\n",
       "      <th>111</th>\n",
       "      <td>1</td>\n",
       "      <td>3.0</td>\n",
       "    </tr>\n",
       "    <tr>\n",
       "      <th>112</th>\n",
       "      <td>3</td>\n",
       "      <td>5.0</td>\n",
       "    </tr>\n",
       "    <tr>\n",
       "      <th>113</th>\n",
       "      <td>3</td>\n",
       "      <td>4.0</td>\n",
       "    </tr>\n",
       "    <tr>\n",
       "      <th>114</th>\n",
       "      <td>3</td>\n",
       "      <td>4.0</td>\n",
       "    </tr>\n",
       "  </tbody>\n",
       "</table>\n",
       "<p>115 rows × 2 columns</p>\n",
       "</div>"
      ],
      "text/plain": [
       "     Job  Experience\n",
       "0      0         2.0\n",
       "1      1         2.0\n",
       "2      0         2.0\n",
       "3      0         2.0\n",
       "4      0         3.0\n",
       "..   ...         ...\n",
       "110    3         5.0\n",
       "111    1         3.0\n",
       "112    3         5.0\n",
       "113    3         4.0\n",
       "114    3         4.0\n",
       "\n",
       "[115 rows x 2 columns]"
      ]
     },
     "execution_count": 132,
     "metadata": {},
     "output_type": "execute_result"
    }
   ],
   "source": [
    "X"
   ]
  },
  {
   "cell_type": "code",
   "execution_count": 133,
   "metadata": {},
   "outputs": [
    {
     "data": {
      "text/plain": [
       "0       15000.0\n",
       "1       25000.0\n",
       "2       25000.0\n",
       "3       20000.0\n",
       "4       45000.0\n",
       "         ...   \n",
       "110     50000.0\n",
       "111    100000.0\n",
       "112     45000.0\n",
       "113     32000.0\n",
       "114     45000.0\n",
       "Name: Salary, Length: 115, dtype: float64"
      ]
     },
     "execution_count": 133,
     "metadata": {},
     "output_type": "execute_result"
    }
   ],
   "source": [
    "y"
   ]
  },
  {
   "cell_type": "code",
   "execution_count": 134,
   "metadata": {},
   "outputs": [],
   "source": [
    "# Impute missing values: Instead of dropping rows with NaN values, you can fill the missing values with a suitable imputation technique.\n",
    "from sklearn.impute import SimpleImputer\n",
    "\n",
    "imputer = SimpleImputer(strategy='mean')  # or 'median', 'most_frequent', etc.\n",
    "X = imputer.fit_transform(X)"
   ]
  },
  {
   "cell_type": "code",
   "execution_count": 135,
   "metadata": {},
   "outputs": [],
   "source": [
    "X_train, X_test, y_train, y_test = train_test_split(X,y, test_size=0.3, random_state=42)"
   ]
  },
  {
   "cell_type": "code",
   "execution_count": 136,
   "metadata": {},
   "outputs": [],
   "source": [
    "X_train = np.array(X_train).reshape((len(X_train),2))\n",
    "y_train = np.array(y_train).reshape((len(y_train),1))\n",
    "\n",
    "X_test = np.array(X_test).reshape((len(X_test),2))\n",
    "y_test = np.array(y_test).reshape((len(y_test),1))"
   ]
  },
  {
   "attachments": {},
   "cell_type": "markdown",
   "metadata": {},
   "source": [
    "# Model Training"
   ]
  },
  {
   "cell_type": "code",
   "execution_count": 104,
   "metadata": {},
   "outputs": [],
   "source": [
    "from sklearn import linear_model "
   ]
  },
  {
   "cell_type": "code",
   "execution_count": 137,
   "metadata": {},
   "outputs": [
    {
     "data": {
      "text/html": [
       "<style>#sk-container-id-2 {color: black;background-color: white;}#sk-container-id-2 pre{padding: 0;}#sk-container-id-2 div.sk-toggleable {background-color: white;}#sk-container-id-2 label.sk-toggleable__label {cursor: pointer;display: block;width: 100%;margin-bottom: 0;padding: 0.3em;box-sizing: border-box;text-align: center;}#sk-container-id-2 label.sk-toggleable__label-arrow:before {content: \"▸\";float: left;margin-right: 0.25em;color: #696969;}#sk-container-id-2 label.sk-toggleable__label-arrow:hover:before {color: black;}#sk-container-id-2 div.sk-estimator:hover label.sk-toggleable__label-arrow:before {color: black;}#sk-container-id-2 div.sk-toggleable__content {max-height: 0;max-width: 0;overflow: hidden;text-align: left;background-color: #f0f8ff;}#sk-container-id-2 div.sk-toggleable__content pre {margin: 0.2em;color: black;border-radius: 0.25em;background-color: #f0f8ff;}#sk-container-id-2 input.sk-toggleable__control:checked~div.sk-toggleable__content {max-height: 200px;max-width: 100%;overflow: auto;}#sk-container-id-2 input.sk-toggleable__control:checked~label.sk-toggleable__label-arrow:before {content: \"▾\";}#sk-container-id-2 div.sk-estimator input.sk-toggleable__control:checked~label.sk-toggleable__label {background-color: #d4ebff;}#sk-container-id-2 div.sk-label input.sk-toggleable__control:checked~label.sk-toggleable__label {background-color: #d4ebff;}#sk-container-id-2 input.sk-hidden--visually {border: 0;clip: rect(1px 1px 1px 1px);clip: rect(1px, 1px, 1px, 1px);height: 1px;margin: -1px;overflow: hidden;padding: 0;position: absolute;width: 1px;}#sk-container-id-2 div.sk-estimator {font-family: monospace;background-color: #f0f8ff;border: 1px dotted black;border-radius: 0.25em;box-sizing: border-box;margin-bottom: 0.5em;}#sk-container-id-2 div.sk-estimator:hover {background-color: #d4ebff;}#sk-container-id-2 div.sk-parallel-item::after {content: \"\";width: 100%;border-bottom: 1px solid gray;flex-grow: 1;}#sk-container-id-2 div.sk-label:hover label.sk-toggleable__label {background-color: #d4ebff;}#sk-container-id-2 div.sk-serial::before {content: \"\";position: absolute;border-left: 1px solid gray;box-sizing: border-box;top: 0;bottom: 0;left: 50%;z-index: 0;}#sk-container-id-2 div.sk-serial {display: flex;flex-direction: column;align-items: center;background-color: white;padding-right: 0.2em;padding-left: 0.2em;position: relative;}#sk-container-id-2 div.sk-item {position: relative;z-index: 1;}#sk-container-id-2 div.sk-parallel {display: flex;align-items: stretch;justify-content: center;background-color: white;position: relative;}#sk-container-id-2 div.sk-item::before, #sk-container-id-2 div.sk-parallel-item::before {content: \"\";position: absolute;border-left: 1px solid gray;box-sizing: border-box;top: 0;bottom: 0;left: 50%;z-index: -1;}#sk-container-id-2 div.sk-parallel-item {display: flex;flex-direction: column;z-index: 1;position: relative;background-color: white;}#sk-container-id-2 div.sk-parallel-item:first-child::after {align-self: flex-end;width: 50%;}#sk-container-id-2 div.sk-parallel-item:last-child::after {align-self: flex-start;width: 50%;}#sk-container-id-2 div.sk-parallel-item:only-child::after {width: 0;}#sk-container-id-2 div.sk-dashed-wrapped {border: 1px dashed gray;margin: 0 0.4em 0.5em 0.4em;box-sizing: border-box;padding-bottom: 0.4em;background-color: white;}#sk-container-id-2 div.sk-label label {font-family: monospace;font-weight: bold;display: inline-block;line-height: 1.2em;}#sk-container-id-2 div.sk-label-container {text-align: center;}#sk-container-id-2 div.sk-container {/* jupyter's `normalize.less` sets `[hidden] { display: none; }` but bootstrap.min.css set `[hidden] { display: none !important; }` so we also need the `!important` here to be able to override the default hidden behavior on the sphinx rendered scikit-learn.org. See: https://github.com/scikit-learn/scikit-learn/issues/21755 */display: inline-block !important;position: relative;}#sk-container-id-2 div.sk-text-repr-fallback {display: none;}</style><div id=\"sk-container-id-2\" class=\"sk-top-container\"><div class=\"sk-text-repr-fallback\"><pre>LinearRegression()</pre><b>In a Jupyter environment, please rerun this cell to show the HTML representation or trust the notebook. <br />On GitHub, the HTML representation is unable to render, please try loading this page with nbviewer.org.</b></div><div class=\"sk-container\" hidden><div class=\"sk-item\"><div class=\"sk-estimator sk-toggleable\"><input class=\"sk-toggleable__control sk-hidden--visually\" id=\"sk-estimator-id-2\" type=\"checkbox\" checked><label for=\"sk-estimator-id-2\" class=\"sk-toggleable__label sk-toggleable__label-arrow\">LinearRegression</label><div class=\"sk-toggleable__content\"><pre>LinearRegression()</pre></div></div></div></div></div>"
      ],
      "text/plain": [
       "LinearRegression()"
      ]
     },
     "execution_count": 137,
     "metadata": {},
     "output_type": "execute_result"
    }
   ],
   "source": [
    "model = linear_model.LinearRegression()\n",
    "model.fit(X_train,y_train) \n",
    "#this snippet of code will be used to train the linearRegression model using the X and y variables."
   ]
  },
  {
   "cell_type": "code",
   "execution_count": 138,
   "metadata": {},
   "outputs": [
    {
     "data": {
      "text/plain": [
       "array([40564.58265946])"
      ]
     },
     "execution_count": 138,
     "metadata": {},
     "output_type": "execute_result"
    }
   ],
   "source": [
    "model.intercept_"
   ]
  },
  {
   "cell_type": "code",
   "execution_count": 139,
   "metadata": {},
   "outputs": [
    {
     "data": {
      "text/plain": [
       "array([[-2915.3046141 ,  8016.71836712]])"
      ]
     },
     "execution_count": 139,
     "metadata": {},
     "output_type": "execute_result"
    }
   ],
   "source": [
    "model.coef_"
   ]
  },
  {
   "cell_type": "code",
   "execution_count": 140,
   "metadata": {},
   "outputs": [
    {
     "data": {
      "text/plain": [
       "0.2401265211971758"
      ]
     },
     "execution_count": 140,
     "metadata": {},
     "output_type": "execute_result"
    }
   ],
   "source": [
    "model.score(X_train,y_train)"
   ]
  },
  {
   "cell_type": "code",
   "execution_count": 141,
   "metadata": {},
   "outputs": [],
   "source": [
    "y_pred = model.predict(X_test)"
   ]
  },
  {
   "cell_type": "code",
   "execution_count": 142,
   "metadata": {},
   "outputs": [
    {
     "data": {
      "text/plain": [
       "array([[ 58784.12853263],\n",
       "       [ 64614.73776084],\n",
       "       [ 61699.43314673],\n",
       "       [ 77732.86988098],\n",
       "       [ 53682.71477961],\n",
       "       [ 77732.86988098],\n",
       "       [ 77732.86988098],\n",
       "       [ 77732.86988098],\n",
       "       [ 61699.43314673],\n",
       "       [ 64614.73776084],\n",
       "       [152069.44432401],\n",
       "       [ 77732.86988098],\n",
       "       [ 50767.41016551],\n",
       "       [ 63885.54228565],\n",
       "       [ 61699.43314673],\n",
       "       [ 56598.01939371],\n",
       "       [ 77732.86988098],\n",
       "       [ 53682.71477961],\n",
       "       [ 47852.1055514 ],\n",
       "       [ 69716.15151386],\n",
       "       [ 71902.26065277],\n",
       "       [ 71902.26065277],\n",
       "       [ 61699.43314673],\n",
       "       [ 61699.43314673],\n",
       "       [ 77732.86988098],\n",
       "       [ 71902.26065277],\n",
       "       [ 71902.26065277],\n",
       "       [ 69716.15151386],\n",
       "       [ 77732.86988098],\n",
       "       [101783.02498235],\n",
       "       [ 58784.12853263],\n",
       "       [ 53682.71477961],\n",
       "       [ 53682.71477961],\n",
       "       [ 87935.69738702],\n",
       "       [ 61699.43314673]])"
      ]
     },
     "execution_count": 142,
     "metadata": {},
     "output_type": "execute_result"
    }
   ],
   "source": [
    "y_pred"
   ]
  },
  {
   "attachments": {},
   "cell_type": "markdown",
   "metadata": {},
   "source": [
    "# Plot"
   ]
  },
  {
   "cell_type": "code",
   "execution_count": 123,
   "metadata": {},
   "outputs": [],
   "source": [
    "import seaborn as sns\n",
    "import matplotlib.pyplot as plt"
   ]
  },
  {
   "cell_type": "code",
   "execution_count": 143,
   "metadata": {},
   "outputs": [
    {
     "data": {
      "text/plain": [
       "<Axes: >"
      ]
     },
     "execution_count": 143,
     "metadata": {},
     "output_type": "execute_result"
    },
    {
     "data": {
      "image/png": "[encoded data removed]",
      "text/plain": [
       "<Figure size 640x480 with 1 Axes>"
      ]
     },
     "metadata": {},
     "output_type": "display_data"
    }
   ],
   "source": [
    "plt.figure(10.5)\n",
    "sns.regplot(x=X_test[:,1], y = y_pred, scatter_kws={'color':'red'})"
   ]
  },
  {
   "cell_type": "code",
   "execution_count": 125,
   "metadata": {},
   "outputs": [],
   "source": [
    "plt.show()"
   ]
  },
  {
   "attachments": {},
   "cell_type": "markdown",
   "metadata": {},
   "source": [
    "***\n"
   ]
  },
  {
   "attachments": {},
   "cell_type": "markdown",
   "metadata": {},
   "source": [
    "# Save Model"
   ]
  },
  {
   "cell_type": "code",
   "execution_count": 126,
   "metadata": {},
   "outputs": [],
   "source": [
    "import pickle"
   ]
  },
  {
   "cell_type": "code",
   "execution_count": 127,
   "metadata": {},
   "outputs": [],
   "source": [
    "pickle.dump(model, open('model.pkl','wb'))"
   ]
  },
  {
   "cell_type": "code",
   "execution_count": 128,
   "metadata": {},
   "outputs": [],
   "source": [
    "model_dump = pickle.load(open('model.pkl','rb'))"
   ]
  },
  {
   "cell_type": "code",
   "execution_count": 129,
   "metadata": {},
   "outputs": [
    {
     "name": "stdout",
     "output_type": "stream",
     "text": [
      "[[838738.05383494]]\n"
     ]
    }
   ],
   "source": [
    "print(model.predict([[1.2,100]]))"
   ]
  }
 ],
 "metadata": {
  "kernelspec": {
   "display_name": "linearRegression_Env",
   "language": "python",
   "name": "python3"
  },
  "language_info": {
   "codemirror_mode": {
    "name": "ipython",
    "version": 3
   },
   "file_extension": ".py",
   "mimetype": "text/x-python",
   "name": "python",
   "nbconvert_exporter": "python",
   "pygments_lexer": "ipython3",
   "version": "3.10.9"
  },
  "orig_nbformat": 4,
  "vscode": {
   "interpreter": {
    "hash": "1c0963fab7e7e4552c576f0963b3573c5f273cd476241995c06788cb57cbfd67"
   }
  }
 },
 "nbformat": 4,
 "nbformat_minor": 2
}
